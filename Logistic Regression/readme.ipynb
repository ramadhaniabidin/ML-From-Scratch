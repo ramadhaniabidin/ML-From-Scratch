{
 "cells": [
  {
   "cell_type": "markdown",
   "metadata": {},
   "source": [
    "# Math\n",
    "$$v = wx + b$$\n",
    "$$output = y = \\frac 1{1 + e^{-v}} = \\frac 1{1 + e^{-(wx + b)}}$$\n",
    "$$loss = L = -t\\ln{y} - (1-t)\\ln{(1-y)}$$\n",
    "\n",
    "### Gradient\n",
    "$$dw = \\frac {\\partial L}{\\partial w} = \\frac{\\partial L}{\\partial y} \\frac{\\partial y}{\\partial v} \\frac{\\partial v}{\\partial w}$$\n",
    "$$db = \\frac {\\partial L}{\\partial w} = \\frac{\\partial L}{\\partial y} \\frac{\\partial y}{\\partial v} \\frac{\\partial v}{\\partial b}$$\n",
    "$$\\frac {\\partial L}{\\partial y} = \\frac {\\partial}{\\partial y} (-t\\ln{y} - (1-t)\\ln{(1-y)}) = -\\frac {t}{y} + \\frac {1 - t}{1 - y}$$\n",
    "$$\\frac {\\partial y}{\\partial v} = \\frac {\\partial}{\\partial v} \\Big(\\frac 1{1 + e^{-v}}\\Big) = y^2e^{-v} = y(1-y)$$\n",
    "$$\\frac {\\partial v}{\\partial w} = \\frac {\\partial}{\\partial w}(wx + b) = x$$\n",
    "$$\\frac {\\partial v}{\\partial b} = \\frac {\\partial}{\\partial b}(wx + b) = 1$$\n",
    "$$dw = \\Big(-\\frac {t}{y} + \\frac {1 - t}{1 - y}\\Big) \\Big(y(1-y)\\Big)(x) = (y-t)x$$\n",
    "$$db = \\Big(-\\frac {t}{y} + \\frac {1 - t}{1 - y}\\Big) \\Big(y(1-y)\\Big)(1) = (y-t)$$"
   ]
  },
  {
   "cell_type": "markdown",
   "metadata": {},
   "source": []
  }
 ],
 "metadata": {
  "language_info": {
   "name": "python"
  }
 },
 "nbformat": 4,
 "nbformat_minor": 2
}
